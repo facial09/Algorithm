{
 "cells": [
  {
   "cell_type": "code",
   "execution_count": null,
   "id": "e4373ce2",
   "metadata": {},
   "outputs": [],
   "source": [
    "import sys\n",
    "from collections import deque\n",
    "\n",
    "input = sys.stdin.readline\n",
    "\n",
    "case = int(input())\n",
    "\n",
    "dx = [0,0,1,-1]\n",
    "dy = [1,-1,0,0]\n",
    "\n",
    "def bfs(x,y,g):\n",
    "    num_of_warm = 0\n",
    "    queue = deque()\n",
    "    queue.append((x,y))\n",
    "    \n",
    "    while queue:\n",
    "        x,y=queue.popleft()\n",
    "        for i in range(4):\n",
    "            nx = x + dx[i]\n",
    "            ny = y + dy[i]\n",
    "            \n",
    "            if nx < 0 or ny < 0 or nx >= n or ny>= m:\n",
    "                continue\n",
    "            if g[nx][ny] == 1:\n",
    "                g[nx][ny] = 0\n",
    "                queue.append((nx,ny))\n",
    "                \n",
    "    return \n",
    "\n",
    "for i in range(case):\n",
    "    warms = 0\n",
    "    col,row,num = map(int,input().split())\n",
    "    g = [[0]*row for _ in range(col)]\n",
    "    \n",
    "    for j in range(num):\n",
    "        x,y = map(int,input().split())\n",
    "        g[x][y] = 1\n",
    "    \n",
    "    for k in range(col):\n",
    "        for l in range(row):\n",
    "            if g[k][l] == 1:\n",
    "                warms += 1\n",
    "\n",
    "print(warms)"
   ]
  },
  {
   "cell_type": "code",
   "execution_count": 5,
   "id": "9c87e891",
   "metadata": {},
   "outputs": [
    {
     "data": {
      "text/plain": [
       "[[0, 0, 0, 0, 0, 0, 0, 0, 0, 0],\n",
       " [0, 0, 0, 0, 0, 0, 0, 0, 0, 0],\n",
       " [0, 0, 0, 0, 0, 0, 0, 0, 0, 0],\n",
       " [0, 0, 0, 0, 0, 0, 0, 0, 0, 0],\n",
       " [0, 0, 0, 0, 0, 0, 0, 0, 0, 0],\n",
       " [0, 0, 0, 0, 0, 0, 0, 0, 0, 0]]"
      ]
     },
     "execution_count": 5,
     "metadata": {},
     "output_type": "execute_result"
    }
   ],
   "source": [
    "lst =[[0 for _ in range(10)] for _ in range(6)]\n",
    "lst"
   ]
  },
  {
   "cell_type": "code",
   "execution_count": 6,
   "id": "e5526216",
   "metadata": {},
   "outputs": [],
   "source": [
    "lst[0][0] = 1"
   ]
  },
  {
   "cell_type": "code",
   "execution_count": 7,
   "id": "49091deb",
   "metadata": {},
   "outputs": [
    {
     "data": {
      "text/plain": [
       "[[1, 0, 0, 0, 0, 0, 0, 0, 0, 0],\n",
       " [0, 0, 0, 0, 0, 0, 0, 0, 0, 0],\n",
       " [0, 0, 0, 0, 0, 0, 0, 0, 0, 0],\n",
       " [0, 0, 0, 0, 0, 0, 0, 0, 0, 0],\n",
       " [0, 0, 0, 0, 0, 0, 0, 0, 0, 0],\n",
       " [0, 0, 0, 0, 0, 0, 0, 0, 0, 0]]"
      ]
     },
     "execution_count": 7,
     "metadata": {},
     "output_type": "execute_result"
    }
   ],
   "source": [
    "lst"
   ]
  },
  {
   "cell_type": "code",
   "execution_count": null,
   "id": "5ceb1314",
   "metadata": {},
   "outputs": [],
   "source": [
    "2\n",
    "10 8 17\n",
    "0 0\n",
    "1 0\n",
    "1 1\n",
    "4 2\n",
    "4 3\n",
    "4 5\n",
    "2 4\n",
    "3 4\n",
    "7 4\n",
    "8 4\n",
    "9 4\n",
    "7 5\n",
    "8 5\n",
    "9 5\n",
    "7 6\n",
    "8 6\n",
    "9 6\n",
    "10 10 1\n",
    "5 5"
   ]
  }
 ],
 "metadata": {
  "kernelspec": {
   "display_name": "Python 3 (ipykernel)",
   "language": "python",
   "name": "python3"
  },
  "language_info": {
   "codemirror_mode": {
    "name": "ipython",
    "version": 3
   },
   "file_extension": ".py",
   "mimetype": "text/x-python",
   "name": "python",
   "nbconvert_exporter": "python",
   "pygments_lexer": "ipython3",
   "version": "3.8.13"
  }
 },
 "nbformat": 4,
 "nbformat_minor": 5
}
