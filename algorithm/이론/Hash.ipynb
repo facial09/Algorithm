{
 "cells": [
  {
   "cell_type": "markdown",
   "id": "a46eaaea",
   "metadata": {},
   "source": [
    "## Dictionary 에서 Key로 검색시 시간 측정 및 문자의 저장방법"
   ]
  },
  {
   "cell_type": "code",
   "execution_count": 12,
   "id": "8a289560",
   "metadata": {},
   "outputs": [
    {
     "name": "stdout",
     "output_type": "stream",
     "text": [
      "!\n",
      "Z\n",
      "&\n",
      "2\n",
      "0.00026702880859375\n"
     ]
    }
   ],
   "source": [
    "import time\n",
    "\n",
    "test_dict = { i: chr(i) for i in range(1,91)}\n",
    "\n",
    "time_1 = time.time()\n",
    "print(test_dict[33])\n",
    "print(test_dict[90])\n",
    "print(test_dict[38])\n",
    "print(test_dict[50])\n",
    "time_2 = time.time()\n",
    "time_interval = time_2 - time_1\n",
    "print(time_interval)"
   ]
  },
  {
   "cell_type": "markdown",
   "id": "2436a31b",
   "metadata": {},
   "source": [
    "## List 와 Tuple을 이용한 경우의 시간"
   ]
  },
  {
   "cell_type": "code",
   "execution_count": 13,
   "id": "c9905a6f",
   "metadata": {},
   "outputs": [
    {
     "name": "stdout",
     "output_type": "stream",
     "text": [
      "!\n",
      "Z\n",
      "&\n",
      "2\n",
      "0.0007481575012207031\n"
     ]
    }
   ],
   "source": [
    "test_list = [(i,chr(i)) for i in range(1,91)]\n",
    "\n",
    "def insert(item_list, key, value):\n",
    "    item_list.append((key,value))\n",
    "    \n",
    "def search(item_list,key):\n",
    "    for item in item_list:\n",
    "        if item[0] == key:\n",
    "            return item[1]\n",
    "    print('not matching')\n",
    "    \n",
    "time_3 = time.time()\n",
    "\n",
    "print(search(test_list, 33))\n",
    "print(search(test_list, 90))\n",
    "print(search(test_list, 38))\n",
    "print(search(test_list, 50))\n",
    "time_4 = time.time()\n",
    "\n",
    "print(time_4 - time_3)"
   ]
  },
  {
   "cell_type": "code",
   "execution_count": 15,
   "id": "ad2c116b",
   "metadata": {
    "scrolled": true
   },
   "outputs": [
    {
     "name": "stdout",
     "output_type": "stream",
     "text": [
      "104\n",
      "101\n",
      "108\n",
      "108\n",
      "111\n",
      "532\n"
     ]
    }
   ],
   "source": [
    "bytes_representation = 'hello'.encode()\n",
    "\n",
    "sum = 0\n",
    "\n",
    "for byte in bytes_representation:\n",
    "    print(byte)\n",
    "    sum += byte\n",
    "\n",
    "print(sum)"
   ]
  },
  {
   "cell_type": "markdown",
   "id": "7f48815e",
   "metadata": {},
   "source": [
    "## Hash Function"
   ]
  },
  {
   "cell_type": "code",
   "execution_count": 17,
   "id": "d871faac",
   "metadata": {},
   "outputs": [
    {
     "name": "stdout",
     "output_type": "stream",
     "text": [
      "sum : 424\n",
      "list_size : 5\n",
      "sum % list_size : 4\n",
      "sum : 424\n",
      "list_size : 5\n",
      "sum % list_size : 4\n",
      "#00FFF\n",
      "[None, None, None, None, '#00FFF']\n"
     ]
    }
   ],
   "source": [
    "def my_hasing_func(str,list_size):\n",
    "    bytes_representation = str.encode()\n",
    "    sum = 0\n",
    "    for byte in bytes_representation:\n",
    "        sum += byte\n",
    "    \n",
    "    print(f'sum : {sum}')\n",
    "    print(f'list_size : {list_size}')\n",
    "    print(f'sum % list_size : {sum % list_size}')\n",
    "    return sum % list_size\n",
    "\n",
    "my_list = [None] * 5\n",
    "my_list[my_hasing_func('aqua',len(my_list))] = '#00FFF'\n",
    "\n",
    "print(my_list[my_hasing_func('aqua',len(my_list))])\n",
    "print(my_list)"
   ]
  },
  {
   "cell_type": "code",
   "execution_count": 18,
   "id": "6bba03c7",
   "metadata": {},
   "outputs": [
    {
     "name": "stdout",
     "output_type": "stream",
     "text": [
      "[None, None, None, None, None]\n",
      "0\n",
      "0\n",
      "1\n"
     ]
    }
   ],
   "source": [
    "hashtable = [None] * 5\n",
    "print(hashtable)\n",
    "\n",
    "def hash_function(key):\n",
    "    return key % len(hashtable)\n",
    "\n",
    "print(hash_function(10))\n",
    "print(hash_function(20))\n",
    "print(hash_function(31))\n"
   ]
  },
  {
   "cell_type": "code",
   "execution_count": 19,
   "id": "e2e5f9b6",
   "metadata": {},
   "outputs": [
    {
     "name": "stdout",
     "output_type": "stream",
     "text": [
      "['A', None, None, None, None]\n",
      "['A', None, None, 'B', None]\n"
     ]
    }
   ],
   "source": [
    "def insert_hash(hashtable, key, value):\n",
    "    hash_key = hash_function(key)\n",
    "    hashtable[hash_key] = value\n",
    "    \n",
    "insert_hash(hashtable, 10 , 'A')\n",
    "print(hashtable)\n",
    "insert_hash(hashtable, 23 , 'B')\n",
    "print(hashtable)"
   ]
  },
  {
   "cell_type": "code",
   "execution_count": 20,
   "id": "6ea740bd",
   "metadata": {},
   "outputs": [
    {
     "name": "stdout",
     "output_type": "stream",
     "text": [
      "['Collision', None, None, 'B', None]\n"
     ]
    }
   ],
   "source": [
    "insert_hash(hashtable,20,'Collision')\n",
    "print(hashtable)"
   ]
  },
  {
   "cell_type": "code",
   "execution_count": 21,
   "id": "783a079f",
   "metadata": {},
   "outputs": [
    {
     "name": "stdout",
     "output_type": "stream",
     "text": [
      "[[], [], [], [], [], [], [], [], [], []]\n",
      "0\n",
      "0\n",
      "5\n",
      "[['A'], [], [], [], [], [], [], [], [], []]\n",
      "[['A'], [], [], [], [], ['B'], [], [], [], []]\n",
      "[['A', 'C'], [], [], [], [], ['B'], [], [], [], []]\n"
     ]
    }
   ],
   "source": [
    "chain_hash_table = [[]for _ in range(10)]\n",
    "print(chain_hash_table)\n",
    "\n",
    "def chain_hash_func(key):\n",
    "    return key % len(chain_hash_table)\n",
    "\n",
    "print(chain_hash_func(10))\n",
    "print(chain_hash_func(20))\n",
    "print(chain_hash_func(25))\n",
    "\n",
    "def chain_insert_func(chain_hash_table, key, value):\n",
    "    hash_key = chain_hash_func(key)\n",
    "    chain_hash_table[hash_key].extend(value)\n",
    "    \n",
    "chain_insert_func(chain_hash_table,10,'A')\n",
    "print(chain_hash_table)\n",
    "chain_insert_func(chain_hash_table,25,'B')\n",
    "print(chain_hash_table)\n",
    "\n",
    "chain_insert_func(chain_hash_table,20,'C')\n",
    "print(chain_hash_table)"
   ]
  },
  {
   "cell_type": "code",
   "execution_count": null,
   "id": "799b9580",
   "metadata": {},
   "outputs": [],
   "source": []
  }
 ],
 "metadata": {
  "kernelspec": {
   "display_name": "Python 3 (ipykernel)",
   "language": "python",
   "name": "python3"
  },
  "language_info": {
   "codemirror_mode": {
    "name": "ipython",
    "version": 3
   },
   "file_extension": ".py",
   "mimetype": "text/x-python",
   "name": "python",
   "nbconvert_exporter": "python",
   "pygments_lexer": "ipython3",
   "version": "3.8.13"
  }
 },
 "nbformat": 4,
 "nbformat_minor": 5
}
